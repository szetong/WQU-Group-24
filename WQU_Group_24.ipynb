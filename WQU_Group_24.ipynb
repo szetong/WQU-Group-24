{
  "nbformat": 4,
  "nbformat_minor": 0,
  "metadata": {
    "colab": {
      "name": "WQU-Group 24.ipynb",
      "provenance": [],
      "authorship_tag": "ABX9TyOq8JIVpwHxOmFAo2Ldg8H/",
      "include_colab_link": true
    },
    "kernelspec": {
      "name": "python3",
      "display_name": "Python 3"
    }
  },
  "cells": [
    {
      "cell_type": "markdown",
      "metadata": {
        "id": "view-in-github",
        "colab_type": "text"
      },
      "source": [
        "<a href=\"https://colab.research.google.com/github/szetong/WQU-Group-24/blob/master/WQU_Group_24.ipynb\" target=\"_parent\"><img src=\"https://colab.research.google.com/assets/colab-badge.svg\" alt=\"Open In Colab\"/></a>"
      ]
    },
    {
      "cell_type": "markdown",
      "metadata": {
        "id": "m5XkpZCpsBv6",
        "colab_type": "text"
      },
      "source": [
        "#**Topic: Which Financial Ratios are best in Identifying Good buys**\n",
        "\n",
        "---\n",
        "\n",
        "\n",
        "\n",
        "\n",
        "\n",
        "\n"
      ]
    },
    {
      "cell_type": "markdown",
      "metadata": {
        "id": "wzXI5-cRs0Ea",
        "colab_type": "text"
      },
      "source": [
        "## Part 1 : Empirical Analysis on Classification of Financial Ratios\n",
        "1. Financial Ratio and Stock Price are obtained from MorningStar website (https://www.morningstar.com/)\n",
        "2. Stock listed in China A50 Index will be used for this study\n",
        "3. 10 years Annual Financial ratios will be used for this study\n"
      ]
    },
    {
      "cell_type": "markdown",
      "metadata": {
        "id": "rvWPoDlwvaVo",
        "colab_type": "text"
      },
      "source": [
        "Import all the necessary librart for the analysis"
      ]
    },
    {
      "cell_type": "code",
      "metadata": {
        "id": "Vxv_J7rMvpDb",
        "colab_type": "code",
        "colab": {}
      },
      "source": [
        "import pandas as pd\n",
        "import numpy as np\n",
        "import io\n",
        "from scipy.stats import kendalltau, pearsonr, spearmanr\n",
        "from google.colab import files\n",
        "from pandas.tseries.offsets import MonthEnd\n",
        "import math\n",
        "from IPython.display import display"
      ],
      "execution_count": 0,
      "outputs": []
    },
    {
      "cell_type": "markdown",
      "metadata": {
        "id": "ceQsG9qUtxwo",
        "colab_type": "text"
      },
      "source": [
        "Indicate the quantity of the stock to analyse for the same industry \n",
        "\n",
        "Example: **n = 13** (13 bank stock in China A50 Index)\n",
        "\n",
        "\n"
      ]
    },
    {
      "cell_type": "code",
      "metadata": {
        "id": "HCGuvsnpsAtB",
        "colab_type": "code",
        "colab": {}
      },
      "source": [
        "n = 13"
      ],
      "execution_count": 0,
      "outputs": []
    },
    {
      "cell_type": "code",
      "metadata": {
        "id": "2y5z3MHxvWrW",
        "colab_type": "code",
        "colab": {}
      },
      "source": [
        "def Ratio_Dataframe(ratio_df,price_df):\n",
        "\n",
        "  #REMOVE LAST COLUMN\n",
        "  Ratio_df = ratio_df\n",
        "  Ratio_df = Ratio_df.dropna(how='all')\n",
        "  Ratio_df = Ratio_df.reset_index(drop= True)\n",
        "  Ratio_df = Ratio_df.drop(['TTM'],axis=1)\n",
        "\n",
        "  #SPLIT INTO FEW FINANCIAL RATIO DATAFRAME\n",
        "  Ratio_1 = Ratio_df.iloc[:15, :]\n",
        "  Ratio_Profit_1 = Ratio_df.iloc[16:27, :]\n",
        "  Ratio_Profit_2 = Ratio_df.iloc[27:36, :]\n",
        "  Ratio_CashFlow = Ratio_df.iloc[58:65, :]\n",
        "  Ratio_Financial_Health = Ratio_df.iloc[64:86, :]\n",
        "  Ratio_Liquidity = Ratio_df.iloc[86:91, :]\n",
        "  Ratio_Efficiency = Ratio_df.iloc[92:, :]\n",
        "  \n",
        "  #GROWTH RATIO\n",
        "  Growth_Rate_Revenue = Ratio_df.iloc[36:42, :]\n",
        "  Growth_Rate_Revenue = Growth_Rate_Revenue.replace(to_replace=\"Year over Year\", value= \"Revenue_YOY\", regex= True)\n",
        "  Growth_Rate_Operating = Ratio_df.iloc[42:47, :]\n",
        "  Growth_Rate_Operating = Growth_Rate_Operating.replace(to_replace=\"Year over Year\", value= \"Operating_YOY\", regex= True)\n",
        "  Growth_Rate_Income = Ratio_df.iloc[47:52, :]\n",
        "  Growth_Rate_Income = Growth_Rate_Income.replace(to_replace=\"Year over Year\", value= \"Income_YOY\", regex= True)\n",
        "  Growth_Rate_EPS = Ratio_df.iloc[52:58, :]\n",
        "  Growth_Rate_EPS = Growth_Rate_EPS.replace(to_replace=\"Year over Year\", value= \"EPS_YOY\", regex= True)\n",
        "\n",
        "  #PROFITABILITY RATIO\n",
        "  Gross_Margin_Ratio = Ratio_Profit_2.loc[Ratio_Profit_2['Unnamed: 0']== 'Net Margin %']\n",
        "  Return_On_Asset = Ratio_Profit_2.loc[Ratio_Profit_2['Unnamed: 0']== 'Return on Assets %']\n",
        "  Return_On_Equity = Ratio_Profit_2.loc[Ratio_Profit_2['Unnamed: 0']== 'Return on Equity %']\n",
        "  FCF_Sales = Ratio_Financial_Health.loc[Ratio_Financial_Health['Unnamed: 0']== 'Free Cash Flow/Sales %']\n",
        "  FCF_Income = Ratio_Financial_Health.loc[Ratio_Financial_Health['Unnamed: 0']== 'Free Cash Flow/Net Income']\n",
        "\n",
        "  #EFFICIENCY RATIO\n",
        "  Payables_Period = Ratio_Efficiency.loc[Ratio_Efficiency['Unnamed: 0']== 'Payables Period']\n",
        "  Cash_Conversion_Cycle = Ratio_Efficiency.loc[Ratio_Efficiency['Unnamed: 0']== 'Cash Conversion Cycle']\n",
        "  Asset_Turnover = Ratio_Profit_2.loc[Ratio_Profit_2['Unnamed: 0']== 'Payables Period\t']\n",
        "  Fixed_Asset_Turnover = Ratio_Efficiency.loc[Ratio_Efficiency['Unnamed: 0']== 'Fixed Assets Turnover']\n",
        "\n",
        "  #PRICE RATIO\n",
        "  Dividend_Payout_Ratio = Ratio_1.loc[Ratio_1['Unnamed: 0']== 'Payout Ratio % *']\n",
        "  Earning_Per_Share = Ratio_1.loc[Ratio_1['Unnamed: 0']== 'Earnings Per Share CNY']\n",
        "  FCF_Per_Share = Ratio_1.loc[Ratio_1['Unnamed: 0']== 'Free Cash Flow Per Share * CNY']\n",
        "\n",
        "  #LEVERAGE RATIO\n",
        "  Debt_To_Equity = Ratio_Liquidity.loc[Ratio_Liquidity['Unnamed: 0']== 'Debt/Equity']\n",
        "  Financial_Leverage = Ratio_Profit_2.loc[Ratio_Profit_2['Unnamed: 0']== 'Financial Leverage (Average)']\n",
        "  Current_Ratio = Ratio_Liquidity.loc[Ratio_Liquidity['Unnamed: 0']== 'Current Ratio']\n",
        "  Quick_Ratio = Ratio_Liquidity.loc[Ratio_Liquidity['Unnamed: 0']== 'Quick Ratio']\n",
        "\n",
        "  #VALUATION RATIO\n",
        "  Shares = Ratio_1.loc[Ratio_1['Unnamed: 0']== 'Shares Mil']\n",
        "  BookValue_Per_Share = Ratio_1.loc[Ratio_1['Unnamed: 0']== 'Book Value Per Share * CNY']\n",
        "  Revenue_Growth_YOY = Growth_Rate_Revenue.loc[Growth_Rate_Revenue['Unnamed: 0']== 'Revenue_YOY']\n",
        "  Operation_Growth_YOY = Growth_Rate_Operating.loc[Growth_Rate_Operating['Unnamed: 0']== 'Operating_YOY']\n",
        "  NetIncome_Growth_YOY = Growth_Rate_Income.loc[Growth_Rate_Income['Unnamed: 0']== 'Income_YOY']\n",
        "  EPS_Growth_YOY = Growth_Rate_EPS.loc[Growth_Rate_EPS['Unnamed: 0']== 'EPS_YOY']\n",
        "\n",
        "  #FILTER ONLY SELECTED FINANICAL RATIO\n",
        "  Ratio_sum = pd.concat([Shares,Revenue_Growth_YOY,Operation_Growth_YOY,NetIncome_Growth_YOY,EPS_Growth_YOY,Return_On_Equity,Return_On_Asset,Gross_Margin_Ratio,Earning_Per_Share,BookValue_Per_Share,\n",
        "                      FCF_Per_Share, Dividend_Payout_Ratio,Debt_To_Equity,Current_Ratio,Quick_Ratio,FCF_Sales,FCF_Income,Financial_Leverage,Asset_Turnover,Fixed_Asset_Turnover,\n",
        "                      Cash_Conversion_Cycle,Payables_Period ], ignore_index=True)\n",
        "\n",
        "  #MERGE YEAR END PRICE WITH RATIO\n",
        "  Ratio_sum = Ratio_sum.rename(columns= {'Unnamed: 0': 'Description'})\n",
        "  Ratio_sum = Ratio_sum.append({'Description' : 'Market Capital Mil'}, ignore_index = True)\n",
        "  Ratio_sum = Ratio_sum.append({'Description' : 'Price/Earning Ratio'}, ignore_index = True)\n",
        "  Ratio_sum = Ratio_sum.append({'Description' : 'Price/Book Ratio'}, ignore_index = True)\n",
        "  Ratio_sum = Ratio_sum.append({'Description' : 'Price/FCF'}, ignore_index = True)\n",
        "  Ratio_sum = Ratio_sum.append({'Description' : 'PEG Ratio'}, ignore_index = True)\n",
        "  Ratio_sum = Ratio_sum.set_index('Description')\n",
        "  Ratio_sum.columns = pd.to_datetime(Ratio_sum.columns) + MonthEnd(1)\n",
        "  Ratio_sum.columns = Ratio_sum.columns.astype(\"datetime64[ns]\")\n",
        "  Price_df = price_df\n",
        "  Price_df['Date']=pd.to_datetime(Price_df['Date'])\n",
        "  Price_df = Price_df.drop(['Name','Volume'],axis=1)\n",
        "  Price_df = Price_df.rename(columns= {'Price': 'Year End Price'})\n",
        "  for column in Ratio_sum:\n",
        "    Ratio_sum[column] = Ratio_sum[column].str.replace(\",\",\"\").astype(float)\n",
        "  comb = pd.merge_asof(left=Ratio_sum.T, left_index=True ,right=Price_df, right_on='Date')\n",
        "  comb = comb.set_index('Date')\n",
        "  comb = comb.T\n",
        "  comb = comb.transform(pd.to_numeric, errors='coerce')\n",
        "  comb.loc['Market Capital Mil'] = comb.loc['Year End Price'] * comb.loc['Shares Mil']\n",
        "  comb.loc['Price/Earning Ratio'] = comb.loc['Year End Price'] / comb.loc['Earnings Per Share CNY']\n",
        "  comb.loc['PEG Ratio'] = comb.loc['Price/Earning Ratio'] / comb.loc['EPS_YOY']\n",
        "  comb.loc['Price/Book Ratio'] = comb.loc['Year End Price'] / comb.loc['Book Value Per Share * CNY']\n",
        "  comb.loc['Price/FCF'] = comb.loc['Year End Price'] / comb.loc['Free Cash Flow Per Share * CNY']\n",
        "  comb = comb.round(decimals=2)\n",
        "\n",
        "  #REMOVE COLUMN IF STOCK PRICE ARE MISSING\n",
        "  comb.loc['Year End Price'] = stock.loc['Year End Price'].replace(0, np.nan)\n",
        "  comb = comb.dropna(axis=1)\n",
        "\n",
        "  #OBTAIN CORRELATION FOR 3 DIFFERENT METHOD\n",
        "  Ratio_correlation = comb\n",
        "  #Ratio_correlation = Ratio_correlation.fillna(0)\n",
        "  Ratio_correlation = Ratio_correlation.transpose()\n",
        "  Ratio_correlation = Ratio_correlation.replace(np.inf,0)\n",
        "  Ratio_correlation_P =  Ratio_correlation.corr(method='pearson')\n",
        "  Ratio_correlation_K = Ratio_correlation.corr(method='kendall')\n",
        "  Ratio_correlation_S = Ratio_correlation.corr(method='spearman')\n",
        "  Summary_P = pd.DataFrame()\n",
        "  Summary_P['Pearson Correlation'] = Ratio_correlation_P['Year End Price']\n",
        "  Summary_K = pd.DataFrame()\n",
        "  Summary_K['Kendal Correlation'] = Ratio_correlation_K['Year End Price']\n",
        "  Summary_S = pd.DataFrame()\n",
        "  Summary_S['Spearman Correlation'] = Ratio_correlation_S['Year End Price']\n",
        "  \n",
        "  #SAVE CORRELATION FILE TO LOCAL\n",
        "  Name = pn\n",
        "  Name = Name.replace('.csv','')\n",
        "  \n",
        "  Summary_P.to_csv(Name +'_Pearson.csv') \n",
        "  files.download(Name +'_Pearson.csv')\n",
        "  Summary_K.to_csv(Name +'_Kendal.csv') \n",
        "  files.download(Name +'_Kendal.csv')\n",
        "  Summary_S.to_csv(Name +'_Spearman.csv') \n",
        "  files.download(Name +'_Spearman.csv')\n",
        "\n",
        "  #SAVE FINANCIAL RATIO SUMMARY FILE TO LOCAL\n",
        "  comb.to_csv(Name +'_Summary.csv') \n",
        "  files.download(Name +'_Summary.csv')\n",
        "    \n",
        "  corr_combine = pd.DataFrame()\n",
        "  #Name_2 = Name + 'Correlation'\n",
        "  corr_combine[Name + ' Pearson'] = Summary_P['Pearson Correlation']\n",
        "  corr_combine[Name + ' Kendall'] = Summary_K['Kendal Correlation']\n",
        "  corr_combine[Name + ' Spearman'] = Summary_S['Spearman Correlation']\n",
        "\n",
        "  return comb, corr_combine, Name"
      ],
      "execution_count": 0,
      "outputs": []
    },
    {
      "cell_type": "markdown",
      "metadata": {
        "id": "C3p7PLsFwt6D",
        "colab_type": "text"
      },
      "source": [
        "Upload the Financial Ratio files and Stock Price File that obtain from MorningStar \n",
        "\n",
        "(Example: Upload n times of both Financial Ratio Files and Stock Price File)\n",
        "\n",
        "This code will download Correlation files and Summary file upon completion"
      ]
    },
    {
      "cell_type": "code",
      "metadata": {
        "id": "c4qC-B7Iwj0v",
        "colab_type": "code",
        "colab": {}
      },
      "source": [
        "stock_df = {}\n",
        "corr = {}\n",
        "name = {}\n",
        "for i in range(n):\n",
        "  print('\\n Kindly upload Stock Key Financial Ratio File(CSV)')\n",
        "  uploaded = files.upload()  \n",
        "  for fn in uploaded.keys():\n",
        "    stock_df[i] = pd.read_csv(fn,header=2)\n",
        "    print('\\n Kindly upload Stock Price File for \"{name}\" '.format(name=fn))\n",
        "  \n",
        "  uploaded_1 = files.upload()\n",
        "  for pn in uploaded_1.keys():\n",
        "    Price_raw = pd.read_csv(pn,index_col= False)\n",
        "    stock_df[i], corr[i], name[i] = Ratio_Dataframe(stock_df[i],Price_raw)"
      ],
      "execution_count": 0,
      "outputs": []
    }
  ]
}