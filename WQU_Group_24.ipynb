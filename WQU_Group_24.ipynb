{
  "nbformat": 4,
  "nbformat_minor": 0,
  "metadata": {
    "colab": {
      "name": "WQU-Group 24.ipynb",
      "provenance": [],
      "authorship_tag": "ABX9TyM8ilDS3k/7pWPAPb5tUA6U",
      "include_colab_link": true
    },
    "kernelspec": {
      "name": "python3",
      "display_name": "Python 3"
    }
  },
  "cells": [
    {
      "cell_type": "markdown",
      "metadata": {
        "id": "view-in-github",
        "colab_type": "text"
      },
      "source": [
        "<a href=\"https://colab.research.google.com/github/szetong/WQU-Group-24/blob/master/WQU_Group_24.ipynb\" target=\"_parent\"><img src=\"https://colab.research.google.com/assets/colab-badge.svg\" alt=\"Open In Colab\"/></a>"
      ]
    },
    {
      "cell_type": "markdown",
      "metadata": {
        "id": "m5XkpZCpsBv6",
        "colab_type": "text"
      },
      "source": [
        "#**Topic: Which Financial Ratios are best in Identifying Good buys**\n",
        "\n",
        "---\n",
        "\n",
        "\n",
        "\n",
        "\n",
        "\n",
        "\n"
      ]
    },
    {
      "cell_type": "markdown",
      "metadata": {
        "id": "wzXI5-cRs0Ea",
        "colab_type": "text"
      },
      "source": [
        "## Part 1 : Empirical Analysis on Classification of Financial Ratios"
      ]
    },
    {
      "cell_type": "code",
      "metadata": {
        "id": "HCGuvsnpsAtB",
        "colab_type": "code",
        "colab": {}
      },
      "source": [
        ""
      ],
      "execution_count": 0,
      "outputs": []
    }
  ]
}